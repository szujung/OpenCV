{
 "cells": [
  {
   "cell_type": "code",
   "execution_count": 2,
   "id": "903d3c6f-2860-430d-89a6-202cbc700743",
   "metadata": {},
   "outputs": [],
   "source": [
    "import cv2\n",
    "import numpy as np"
   ]
  },
  {
   "cell_type": "code",
   "execution_count": 34,
   "id": "324d7914-c837-4a97-892f-2943049b085c",
   "metadata": {},
   "outputs": [
    {
     "data": {
      "text/plain": [
       "-1"
      ]
     },
     "execution_count": 34,
     "metadata": {},
     "output_type": "execute_result"
    }
   ],
   "source": [
    "img = cv2.imread('59.jpg')\n",
    "img = cv2.resize(img, (0, 0), fx=0.2, fy=0.2)\n",
    "\n",
    "kernel = np.ones((10,10), np.uint8)\n",
    "kernel1 = np.ones((10,10), np.uint8)\n",
    "\n",
    "gray = cv2.cvtColor(img,  cv2.COLOR_BGR2GRAY)\n",
    "blur = cv2.GaussianBlur(img, (7, 7), 5)\n",
    "canny = cv2.Canny(img, 200, 350)\n",
    "dilate = cv2.dilate(canny, kernel, iterations=1)\n",
    "erode = cv2.erode(dilate, kernel1, iterations=2) \n",
    "\n",
    "# cv2.imshow('img', img)\n",
    "# cv2.imshow('gray', gray)\n",
    "cv2.imshow('blur', blur)\n",
    "cv2.imshow('canny', canny)\n",
    "cv2.imshow('dielate', dilate)\n",
    "cv2.imshow('erode', erode)\n",
    "cv2.waitKey(0)"
   ]
  },
  {
   "cell_type": "code",
   "execution_count": 3,
   "id": "7809bec5-63f6-4448-9e75-505dad8e8c58",
   "metadata": {},
   "outputs": [
    {
     "data": {
      "text/plain": [
       "-1"
      ]
     },
     "execution_count": 3,
     "metadata": {},
     "output_type": "execute_result"
    }
   ],
   "source": [
    "img = np.zeros((600, 600, 3), np.uint8)\n",
    "cv2.line(img, (0,0), (img.shape[1], img.shape[0]), (0, 255, 0), 2)\n",
    "cv2.rectangle(img, (0,0), (400,300), (0, 0, 255), cv2.FILLED)\n",
    "cv2.circle(img, (300,400), 30, (255, 0, 0), 4)\n",
    "cv2.putText(img, 'Hello', (100,500), cv2.FONT_HERSHEY_SIMPLEX, 2, (255, 255, 255), 2)\n",
    "\n",
    "cv2.imshow('img', img)\n",
    "cv2.waitKey(0)"
   ]
  },
  {
   "cell_type": "code",
   "execution_count": 3,
   "id": "f0e7c9de-a7be-425a-8e9b-a7de65ecd62c",
   "metadata": {},
   "outputs": [
    {
     "ename": "error",
     "evalue": "OpenCV(4.5.4) D:\\a\\opencv-python\\opencv-python\\opencv\\modules\\highgui\\src\\window_w32.cpp:2581: error: (-27:Null pointer) NULL window: 'TrackBar' in function 'cvGetTrackbarPos'\n",
     "output_type": "error",
     "traceback": [
      "\u001b[1;31m---------------------------------------------------------------------------\u001b[0m",
      "\u001b[1;31merror\u001b[0m                                     Traceback (most recent call last)",
      "\u001b[1;32m<ipython-input-3-9f9a989c0771>\u001b[0m in \u001b[0;36m<module>\u001b[1;34m\u001b[0m\n\u001b[0;32m     17\u001b[0m \u001b[0mhsv\u001b[0m \u001b[1;33m=\u001b[0m \u001b[0mcv2\u001b[0m\u001b[1;33m.\u001b[0m\u001b[0mcvtColor\u001b[0m\u001b[1;33m(\u001b[0m\u001b[0mimg\u001b[0m\u001b[1;33m,\u001b[0m \u001b[0mcv2\u001b[0m\u001b[1;33m.\u001b[0m\u001b[0mCOLOR_BGR2HSV\u001b[0m\u001b[1;33m)\u001b[0m\u001b[1;33m\u001b[0m\u001b[1;33m\u001b[0m\u001b[0m\n\u001b[0;32m     18\u001b[0m \u001b[1;32mwhile\u001b[0m \u001b[1;32mTrue\u001b[0m\u001b[1;33m:\u001b[0m\u001b[1;33m\u001b[0m\u001b[1;33m\u001b[0m\u001b[0m\n\u001b[1;32m---> 19\u001b[1;33m     \u001b[0mh_min\u001b[0m \u001b[1;33m=\u001b[0m \u001b[0mcv2\u001b[0m\u001b[1;33m.\u001b[0m\u001b[0mgetTrackbarPos\u001b[0m\u001b[1;33m(\u001b[0m\u001b[1;34m'Hue Min'\u001b[0m\u001b[1;33m,\u001b[0m \u001b[1;34m'TrackBar'\u001b[0m\u001b[1;33m)\u001b[0m\u001b[1;33m\u001b[0m\u001b[1;33m\u001b[0m\u001b[0m\n\u001b[0m\u001b[0;32m     20\u001b[0m     \u001b[0mh_max\u001b[0m \u001b[1;33m=\u001b[0m \u001b[0mcv2\u001b[0m\u001b[1;33m.\u001b[0m\u001b[0mgetTrackbarPos\u001b[0m\u001b[1;33m(\u001b[0m\u001b[1;34m'Hue Max'\u001b[0m\u001b[1;33m,\u001b[0m \u001b[1;34m'TrackBar'\u001b[0m\u001b[1;33m)\u001b[0m\u001b[1;33m\u001b[0m\u001b[1;33m\u001b[0m\u001b[0m\n\u001b[0;32m     21\u001b[0m     \u001b[0ms_min\u001b[0m \u001b[1;33m=\u001b[0m \u001b[0mcv2\u001b[0m\u001b[1;33m.\u001b[0m\u001b[0mgetTrackbarPos\u001b[0m\u001b[1;33m(\u001b[0m\u001b[1;34m'Sat Min'\u001b[0m\u001b[1;33m,\u001b[0m \u001b[1;34m'TrackBar'\u001b[0m\u001b[1;33m)\u001b[0m\u001b[1;33m\u001b[0m\u001b[1;33m\u001b[0m\u001b[0m\n",
      "\u001b[1;31merror\u001b[0m: OpenCV(4.5.4) D:\\a\\opencv-python\\opencv-python\\opencv\\modules\\highgui\\src\\window_w32.cpp:2581: error: (-27:Null pointer) NULL window: 'TrackBar' in function 'cvGetTrackbarPos'\n"
     ]
    }
   ],
   "source": [
    "img = cv2.imread('59.jpg')\n",
    "img = cv2.resize(img, (0, 0), fx=0.2, fy=0.2)\n",
    "\n",
    "def empty(v):\n",
    "    pass\n",
    "\n",
    "cv2.namedWindow('TrackBar')\n",
    "cv2.resizeWindow('TrackBar', 640, 320)\n",
    "\n",
    "cv2.createTrackbar('Hue Min', 'TrackBar', 0, 179, empty)\n",
    "cv2.createTrackbar('Hue Max', 'TrackBar', 179, 179, empty)\n",
    "cv2.createTrackbar('Sat Min', 'TrackBar', 0, 255, empty)\n",
    "cv2.createTrackbar('Sat Max', 'TrackBar', 255, 255, empty)\n",
    "cv2.createTrackbar('Val Min', 'TrackBar', 0, 255, empty)\n",
    "cv2.createTrackbar('Val Max', 'TrackBar', 255, 255, empty)\n",
    "\n",
    "hsv = cv2.cvtColor(img, cv2.COLOR_BGR2HSV)\n",
    "while True:\n",
    "    h_min = cv2.getTrackbarPos('Hue Min', 'TrackBar')\n",
    "    h_max = cv2.getTrackbarPos('Hue Max', 'TrackBar')\n",
    "    s_min = cv2.getTrackbarPos('Sat Min', 'TrackBar')\n",
    "    s_max = cv2.getTrackbarPos('Sat Max', 'TrackBar')\n",
    "    v_min = cv2.getTrackbarPos('Val Min', 'TrackBar')\n",
    "    v_max = cv2.getTrackbarPos('Val Max', 'TrackBar')\n",
    "    # print(h_min, h_max, s_min, s_max, v_min, v_max)\n",
    "    \n",
    "    lower = np.array([h_min, s_min, v_min])\n",
    "    upper = np.array([h_max, s_max, v_max])\n",
    "    \n",
    "    mask = cv2.inRange(hsv, lower, upper)\n",
    "    result = cv2.bitwise_and(img, img, mask=mask)\n",
    "    cv2.imshow('img', img)\n",
    "    cv2.imshow('hsv', hsv)\n",
    "    cv2.imshow('mask', mask)\n",
    "    cv2.imshow('result', result)\n",
    "    cv2.waitKey(1)"
   ]
  },
  {
   "cell_type": "code",
   "execution_count": null,
   "id": "125d5a06-7b62-47d2-8f3c-8d2eed70a49e",
   "metadata": {},
   "outputs": [],
   "source": [
    "# 作業\n",
    "\n",
    "import numpy as np\n",
    "import cv2\n",
    "\n",
    "cap = cv2.VideoCapture('./video/17.mp4')\n",
    "width = int(cap.get(cv2.CAP_PROP_FRAME_WIDTH))\n",
    "height = int(cap.get(cv2.CAP_PROP_FRAME_HEIGHT))\n",
    "# fps = cap.get(cv2.CAP_PROP_FPS)\n",
    "fourcc = cv2.VideoWriter_fourcc(*'DIVX')\n",
    "# fourcc = 0x00000021\n",
    "out = cv2.VideoWriter('output3.avi', fourcc, 20.0, (width, height))\n",
    "# 從第十秒開始跑\n",
    "cap.set(cv2.CAP_PROP_POS_MSEC, 10000) \n",
    "while(True):\n",
    "    ret, frame = cap.read()\n",
    "    frame = cv2.flip(frame, 1)  #水平翻轉\n",
    "    kernel = np.ones((10,10), np.uint8)  # 建立一個2維正列的核\n",
    "    kernel1 = np.ones((10,10), np.uint8)\n",
    "  \n",
    "    hsv = cv2.cvtColor(frame, cv2.COLOR_BGR2RGB)\n",
    "    # frame = cv2.cvtColor(frame, cv2.COLOR_BGR2GRAY, (width, height))\n",
    "    canny = cv2.Canny(frame, 150, 200)\n",
    "    # blur = cv2.GaussianBlur(frame, (11,11), 10)\n",
    "    dilate = cv2.dilate(canny, kernel, iterations=1)\n",
    "  # erode = cv2.erode(dilate, kernel1, iterations=1)\n",
    "    k=np.ones((5, 5), np.uint8)\n",
    "    d = cv2.dilate(frame, k)  # try to add iteration\n",
    "    e = cv2.erode(frame, k)\n",
    "\n",
    "    r=cv2.morphologyEx(frame, cv2.MORPH_GRADIENT, k)\n",
    "    \n",
    "    out.write(hsv)\n",
    "    cv2.imshow('frame', r)\n",
    "    if cv2.waitKey(10)==30:\n",
    "        break\n",
    "\n",
    "out.release()\n",
    "cap.release()\n",
    "cv2.destroyAllWindows()\n",
    "cv2.waitKey(0)"
   ]
  }
 ],
 "metadata": {
  "kernelspec": {
   "display_name": "Python 3",
   "language": "python",
   "name": "python3"
  },
  "language_info": {
   "codemirror_mode": {
    "name": "ipython",
    "version": 3
   },
   "file_extension": ".py",
   "mimetype": "text/x-python",
   "name": "python",
   "nbconvert_exporter": "python",
   "pygments_lexer": "ipython3",
   "version": "3.6.13"
  }
 },
 "nbformat": 4,
 "nbformat_minor": 5
}
